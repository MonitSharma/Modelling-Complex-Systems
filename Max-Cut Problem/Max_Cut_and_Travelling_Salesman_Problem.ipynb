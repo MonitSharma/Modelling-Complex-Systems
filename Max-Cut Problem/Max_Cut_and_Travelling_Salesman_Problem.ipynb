{
  "nbformat": 4,
  "nbformat_minor": 0,
  "metadata": {
    "colab": {
      "name": "Max-Cut and Travelling Salesman Problem.ipynb",
      "provenance": []
    },
    "kernelspec": {
      "name": "python3",
      "display_name": "Python 3"
    },
    "language_info": {
      "name": "python"
    }
  },
  "cells": [
    {
      "cell_type": "markdown",
      "metadata": {
        "id": "Kpkyg9fCq2w7"
      },
      "source": [
        "# Max-Cut and Traveling Salesman Problem\n",
        "\n",
        "## Introduction\n",
        "\n",
        "Optimization (or combinatorial optimization) means searching for an optimal solution in a finite or countably infinite set of potential solutions. Optimality is defined with respect to some criterion function, which is to be minimized or maximized. This is typically called cost function or objective function\n",
        "\n",
        "\n",
        "#### Typical Optimizaion Problem \n",
        "\n",
        "Minimization: cost, distance, length of a traversal, weight, processing time, material, energy consumption, number of objects\n",
        "\n",
        "Maximization: profit, value, output, return, yield, utility, efficiency, capacity, number of objects"
      ]
    },
    {
      "cell_type": "markdown",
      "metadata": {
        "id": "GBFBF199rFKZ"
      },
      "source": [
        "## Weighted Max-Cut\n",
        "Max-Cut is an NP-complete problem, with applications in clustering, network science, and statistical physics. To grasp how practical applications are mapped into given Max-Cut instances, consider a system of many people that can interact and influence each other. Individuals can be represented by vertices of a graph, and their interactions seen as pairwise connections between vertices of the graph, or edges. With this representation in mind, it is easy to model typical marketing problems.\n",
        "\n",
        "suppose that it is assumed that individuals will influence each other’s buying decisions, and knowledge is given about how strong they will influence each other. The influence can be modeled by weights assigned on each edge of the graph. It is possible then to predict the outcome of a marketing strategy in which products are offered for free to some individuals, and then ask which is the optimal subset of individuals that should get the free products, in order to maximize revenues.\n"
      ]
    },
    {
      "cell_type": "markdown",
      "metadata": {
        "id": "RvdPerVUraLz"
      },
      "source": [
        "## Formal Definition\n",
        "\n",
        "Consider an n-node undirected graph $G = (V, E)$ where $|V| = n$ with edge weights $w_{ij}>0$, $w_{ij}=w_{ji}$, for $(i,j)∈E$. A cut is defined as a partition of the original set $V$ into two subsets. The cost function to be optimized is in this case the sum of weights of edges connecting points in the two different subsets, crossing the cut. By assigning $x_i=0$ or $x_i=1$ to each node $i$, one tries to maximize the global profit function (here and in the following summations run over indices $0,1,…n-1)$\n",
        "\n",
        "\n",
        "$$\\tilde{C}(x)=\\sum_{i,j}w_{ij}x_{i}(1−x_{j})$$\n",
        "\n"
      ]
    },
    {
      "cell_type": "code",
      "metadata": {
        "id": "k2_sBpUVqweu"
      },
      "source": [
        "# basic python libraries\n",
        "import matplotlib.pyplot as plt\n",
        "import matplotlib.axes as axes\n",
        "%matplotlib inline\n",
        "import numpy as np\n",
        "import networkx as nx"
      ],
      "execution_count": 1,
      "outputs": []
    },
    {
      "cell_type": "code",
      "metadata": {
        "id": "2XYis793sonO"
      },
      "source": [
        "# importing the quantum computing libraries\n",
        "from qiskit import Aer\n",
        "from qiskit.tools.visualization import plot_histogram\n",
        "from qiskit.circuit.library import TwoLocal\n",
        "from qiskit.optimization.applications.ising import max_cut, tsp\n",
        "from qiskit.aqua.algorithms import VQE, NumPyMinimumEigensolver\n",
        "from qiskit.aqua.components.optimizers import SPSA\n",
        "from qiskit.aqua import aqua_globals\n",
        "from qiskit.aqua import QuantumInstance\n",
        "from qiskit.optimization.applications.ising.common import sample_most_likely\n",
        "from qiskit.optimization.algorithms import MinimumEigenOptimizer\n",
        "from qiskit.optimization.problems import QuadraticProgram"
      ],
      "execution_count": 5,
      "outputs": []
    },
    {
      "cell_type": "code",
      "metadata": {
        "id": "6mwtNT0bswUZ"
      },
      "source": [
        "# setup aqua logging\n",
        "import logging\n",
        "from qiskit.aqua import set_qiskit_aqua_logging"
      ],
      "execution_count": 6,
      "outputs": []
    },
    {
      "cell_type": "markdown",
      "metadata": {
        "id": "uK9fovmttJrg"
      },
      "source": [
        "# Max-Cut Problem"
      ]
    },
    {
      "cell_type": "code",
      "metadata": {
        "colab": {
          "base_uri": "https://localhost:8080/",
          "height": 248
        },
        "id": "4h8XxzYosz04",
        "outputId": "8e9564c1-a9b2-4636-c9e1-6478e61f3b21"
      },
      "source": [
        "# Generating a graph of 4 nodes\n",
        "\n",
        "n=4 # Number of nodes in graph\n",
        "G=nx.Graph()\n",
        "G.add_nodes_from(np.arange(0,n,1))\n",
        "elist=[(0,1,1.0),(0,2,1.0),(0,3,1.0),(1,2,1.0),(2,3,1.0)]\n",
        "# tuple is (i,j,weight) where (i,j) is the edge\n",
        "G.add_weighted_edges_from(elist)\n",
        "\n",
        "colors = ['r' for node in G.nodes()]\n",
        "pos = nx.spring_layout(G)\n",
        "\n",
        "def draw_graph(G, colors, pos):\n",
        "    default_axes = plt.axes(frameon=True)\n",
        "    nx.draw_networkx(G, node_color=colors, node_size=600, alpha=.8, ax=default_axes, pos=pos)\n",
        "    edge_labels = nx.get_edge_attributes(G, 'weight')\n",
        "    nx.draw_networkx_edge_labels(G, pos=pos, edge_labels=edge_labels)\n",
        "\n",
        "draw_graph(G, colors, pos)"
      ],
      "execution_count": 7,
      "outputs": [
        {
          "output_type": "display_data",
          "data": {
            "image/png": "[encoded data removed]",
            "text/plain": [
              "<Figure size 432x288 with 1 Axes>"
            ]
          },
          "metadata": {
            "tags": []
          }
        }
      ]
    },
    {
      "cell_type": "code",
      "metadata": {
        "colab": {
          "base_uri": "https://localhost:8080/"
        },
        "id": "Qw5FFGlVtSQI",
        "outputId": "f6ade057-a18b-4278-b5c6-17013b36ca4e"
      },
      "source": [
        "# Computing the weight matrix from the random graph\n",
        "w = np.zeros([n,n])\n",
        "for i in range(n):\n",
        "    for j in range(n):\n",
        "        temp = G.get_edge_data(i,j,default=0)\n",
        "        if temp != 0:\n",
        "            w[i,j] = temp['weight']\n",
        "print(w)"
      ],
      "execution_count": 8,
      "outputs": [
        {
          "output_type": "stream",
          "text": [
            "[[0. 1. 1. 1.]\n",
            " [1. 0. 1. 0.]\n",
            " [1. 1. 0. 1.]\n",
            " [1. 0. 1. 0.]]\n"
          ],
          "name": "stdout"
        }
      ]
    },
    {
      "cell_type": "markdown",
      "metadata": {
        "id": "ZV4yIfO0tWiV"
      },
      "source": [
        "# Brute Force Approach\n",
        "Try all possible $2^n$ combinations. For $n=4$, as in this example, one deals with only 16 combinations, but for $n = 1000$, one has $1.071509e+30$ combinations, which is impractical to deal with by using a brute force approach.\n",
        "\n"
      ]
    },
    {
      "cell_type": "code",
      "metadata": {
        "colab": {
          "base_uri": "https://localhost:8080/",
          "height": 560
        },
        "id": "APpYLqrftVa0",
        "outputId": "e48be181-0da8-4f06-de7d-3310b5256bec"
      },
      "source": [
        "best_cost_brute = 0\n",
        "for b in range(2**n):\n",
        "    x = [int(t) for t in reversed(list(bin(b)[2:].zfill(n)))]\n",
        "    cost = 0\n",
        "    for i in range(n):\n",
        "        for j in range(n):\n",
        "            cost = cost + w[i,j]*x[i]*(1-x[j])\n",
        "    if best_cost_brute < cost:\n",
        "        best_cost_brute = cost\n",
        "        xbest_brute = x\n",
        "    print('case = ' + str(x)+ ' cost = ' + str(cost))\n",
        "\n",
        "colors = ['r' if xbest_brute[i] == 0 else 'c' for i in range(n)]\n",
        "draw_graph(G, colors, pos)\n",
        "print('\\nBest solution = ' + str(xbest_brute) + ' cost = ' + str(best_cost_brute))"
      ],
      "execution_count": 9,
      "outputs": [
        {
          "output_type": "stream",
          "text": [
            "case = [0, 0, 0, 0] cost = 0.0\n",
            "case = [1, 0, 0, 0] cost = 3.0\n",
            "case = [0, 1, 0, 0] cost = 2.0\n",
            "case = [1, 1, 0, 0] cost = 3.0\n",
            "case = [0, 0, 1, 0] cost = 3.0\n",
            "case = [1, 0, 1, 0] cost = 4.0\n",
            "case = [0, 1, 1, 0] cost = 3.0\n",
            "case = [1, 1, 1, 0] cost = 2.0\n",
            "case = [0, 0, 0, 1] cost = 2.0\n",
            "case = [1, 0, 0, 1] cost = 3.0\n",
            "case = [0, 1, 0, 1] cost = 4.0\n",
            "case = [1, 1, 0, 1] cost = 3.0\n",
            "case = [0, 0, 1, 1] cost = 3.0\n",
            "case = [1, 0, 1, 1] cost = 2.0\n",
            "case = [0, 1, 1, 1] cost = 3.0\n",
            "case = [1, 1, 1, 1] cost = 0.0\n",
            "\n",
            "Best solution = [1, 0, 1, 0] cost = 4.0\n"
          ],
          "name": "stdout"
        },
        {
          "output_type": "display_data",
          "data": {
            "image/png": "[encoded data removed]",
            "text/plain": [
              "<Figure size 432x288 with 1 Axes>"
            ]
          },
          "metadata": {
            "tags": []
          }
        }
      ]
    },
    {
      "cell_type": "markdown",
      "metadata": {
        "id": "UI9PzMA4toEK"
      },
      "source": [
        "# Mapping to the Ising Problem\n",
        "\n",
        "Directly Generate the Ising Hamiltonian using QuadraticProgram"
      ]
    },
    {
      "cell_type": "code",
      "metadata": {
        "colab": {
          "base_uri": "https://localhost:8080/"
        },
        "id": "3kwYv_Xptl9M",
        "outputId": "45067dd3-d33d-44d6-e0b6-a5ccea328c4e"
      },
      "source": [
        "qubitOp, offset = max_cut.get_operator(w)\n",
        "print('Offset:', offset)\n",
        "print('Ising Hamiltonian:')\n",
        "print(qubitOp.print_details())"
      ],
      "execution_count": 10,
      "outputs": [
        {
          "output_type": "stream",
          "text": [
            "Offset: -2.5\n",
            "Ising Hamiltonian:\n",
            "IIZZ\t(0.5+0j)\n",
            "IZIZ\t(0.5+0j)\n",
            "IZZI\t(0.5+0j)\n",
            "ZIIZ\t(0.5+0j)\n",
            "ZZII\t(0.5+0j)\n",
            "\n"
          ],
          "name": "stdout"
        },
        {
          "output_type": "stream",
          "text": [
            "/usr/local/lib/python3.7/dist-packages/qiskit/optimization/applications/ising/max_cut.py:54: DeprecationWarning: The package qiskit.aqua.operators is deprecated. It was moved/refactored to qiskit.opflow (pip install qiskit-terra). For more information see <https://github.com/Qiskit/qiskit-aqua/blob/master/README.md#migration-guide>\n",
            "  return WeightedPauliOperator(paulis=pauli_list), shift\n"
          ],
          "name": "stderr"
        }
      ]
    },
    {
      "cell_type": "code",
      "metadata": {
        "colab": {
          "base_uri": "https://localhost:8080/"
        },
        "id": "HCgp7jyNtyg4",
        "outputId": "2f5d1519-27fe-49a7-ed6f-db76b01626ea"
      },
      "source": [
        "# mapping Ising Hamiltonian to Quadratic Program\n",
        "qp = QuadraticProgram()\n",
        "qp.from_ising(qubitOp, offset)\n",
        "qp.to_docplex().prettyprint()"
      ],
      "execution_count": 11,
      "outputs": [
        {
          "output_type": "stream",
          "text": [
            "// This file has been generated by DOcplex\n",
            "// model name is: AnonymousModel\n",
            "// single vars section\n",
            "dvar bool x_0;\n",
            "dvar bool x_1;\n",
            "dvar bool x_2;\n",
            "dvar bool x_3;\n",
            "\n",
            "minimize\n",
            " [ - 3 x_0^2 + 2 x_0*x_1 + 2 x_0*x_2 + 2 x_0*x_3 - 2 x_1^2 + 2 x_1*x_2\n",
            " - 3 x_2^2 + 2 x_2*x_3 - 2 x_3^2 ];\n",
            " \n",
            "subject to {\n",
            "\n",
            "}\n"
          ],
          "name": "stdout"
        }
      ]
    },
    {
      "cell_type": "code",
      "metadata": {
        "colab": {
          "base_uri": "https://localhost:8080/"
        },
        "id": "nR5zzY7Pt1CA",
        "outputId": "e2831221-d96f-4f56-966c-ef6a2f7b13bd"
      },
      "source": [
        "# solving Quadratic Program using exact classical eigensolver\n",
        "exact = MinimumEigenOptimizer(NumPyMinimumEigensolver())\n",
        "result = exact.solve(qp)\n",
        "print(result)"
      ],
      "execution_count": 12,
      "outputs": [
        {
          "output_type": "stream",
          "text": [
            "optimal function value: -4.0\n",
            "optimal value: [1. 0. 1. 0.]\n",
            "status: SUCCESS\n"
          ],
          "name": "stdout"
        },
        {
          "output_type": "stream",
          "text": [
            "/usr/local/lib/python3.7/dist-packages/qiskit/aqua/algorithms/minimum_eigen_solvers/minimum_eigen_solver.py:38: DeprecationWarning: The package qiskit.aqua.algorithms.minimum_eigen_solvers is deprecated. It was moved/refactored to qiskit.algorithms.minimum_eigen_solvers (pip install qiskit-terra). For more information see <https://github.com/Qiskit/qiskit-aqua/blob/master/README.md#migration-guide>\n",
            "  'qiskit-terra')\n",
            "/usr/local/lib/python3.7/dist-packages/qiskit/aqua/algorithms/eigen_solvers/eigen_solver.py:38: DeprecationWarning: The package qiskit.aqua.algorithms.eigen_solvers is deprecated. It was moved/refactored to qiskit.algorithms.eigen_solvers (pip install qiskit-terra). For more information see <https://github.com/Qiskit/qiskit-aqua/blob/master/README.md#migration-guide>\n",
            "  'qiskit-terra')\n"
          ],
          "name": "stderr"
        }
      ]
    },
    {
      "cell_type": "markdown",
      "metadata": {
        "id": "wCUDZxOXt_CD"
      },
      "source": [
        "Since the problem was cast to a minimization problem, the solution of −4 corresponds to the optimum"
      ]
    },
    {
      "cell_type": "markdown",
      "metadata": {
        "id": "wTFULKG-uAYm"
      },
      "source": [
        "# Checking the Full Hamiltonian gives the right cost\n",
        "\n"
      ]
    },
    {
      "cell_type": "code",
      "metadata": {
        "colab": {
          "base_uri": "https://localhost:8080/",
          "height": 372
        },
        "id": "dBPFfcKJt5Wo",
        "outputId": "722f8eda-af69-4b13-9336-6ffbe7e641f5"
      },
      "source": [
        "#Making the Hamiltonian in its full form and getting the lowest eigenvalue and eigenvector\n",
        "ee = NumPyMinimumEigensolver(qubitOp)\n",
        "result = ee.run()\n",
        "\n",
        "x = sample_most_likely(result.eigenstate)\n",
        "print('energy:', result.eigenvalue.real)\n",
        "print('max-cut objective:', result.eigenvalue.real + offset)\n",
        "print('solution:', max_cut.get_graph_solution(x))\n",
        "print('solution objective:', max_cut.max_cut_value(x, w))\n",
        "\n",
        "colors = ['r' if max_cut.get_graph_solution(x)[i] == 0 else 'c' for i in range(n)]\n",
        "draw_graph(G, colors, pos)"
      ],
      "execution_count": 13,
      "outputs": [
        {
          "output_type": "stream",
          "text": [
            "/usr/local/lib/python3.7/dist-packages/qiskit/aqua/operators/state_fns/vector_state_fn.py:215: DeprecationWarning: The variable qiskit.aqua.aqua_globals is deprecated. It was moved/refactored to qiskit.utils.algorithm_globals (pip install qiskit-terra). For more information see <https://github.com/Qiskit/qiskit-aqua/blob/master/README.md#migration-guide>\n",
            "  unique, counts = np.unique(aqua_globals.random.choice(list(deterministic_counts.keys()),\n"
          ],
          "name": "stderr"
        },
        {
          "output_type": "stream",
          "text": [
            "energy: -1.5\n",
            "max-cut objective: -4.0\n",
            "solution: [0 1 0 1]\n",
            "solution objective: 4.0\n"
          ],
          "name": "stdout"
        },
        {
          "output_type": "display_data",
          "data": {
            "image/png": "[encoded data removed]",
            "text/plain": [
              "<Figure size 432x288 with 1 Axes>"
            ]
          },
          "metadata": {
            "tags": []
          }
        }
      ]
    },
    {
      "cell_type": "markdown",
      "metadata": {
        "id": "dMQQD4fduJK3"
      },
      "source": [
        "# Running it on Quantum Computer\n",
        "\n",
        "We run the optimization routine using a feedback loop with a quantum computer that uses trial functions built with $Y$ single-qubit rotations, \n",
        "$$U_{single}(θ)=∏^{n}_{i=1}Y(θ_i)$$\n",
        ", and entangler steps $U_{entangler}$.\n"
      ]
    },
    {
      "cell_type": "code",
      "metadata": {
        "colab": {
          "base_uri": "https://localhost:8080/"
        },
        "id": "45jWlID7uHZ3",
        "outputId": "35cd3cef-7689-4c8d-9039-770f0c0e4fc9"
      },
      "source": [
        "aqua_globals.random_seed = np.random.default_rng(123)\n",
        "seed = 10598\n",
        "backend = Aer.get_backend('statevector_simulator')\n",
        "quantum_instance = QuantumInstance(backend, seed_simulator=seed, seed_transpiler=seed)"
      ],
      "execution_count": 14,
      "outputs": [
        {
          "output_type": "stream",
          "text": [
            "/usr/local/lib/python3.7/dist-packages/qiskit/aqua/quantum_instance.py:137: DeprecationWarning: The class qiskit.aqua.QuantumInstance is deprecated. It was moved/refactored to qiskit.utils.QuantumInstance (pip install qiskit-terra). For more information see <https://github.com/Qiskit/qiskit-aqua/blob/master/README.md#migration-guide>\n",
            "  'qiskit-terra')\n"
          ],
          "name": "stderr"
        }
      ]
    },
    {
      "cell_type": "code",
      "metadata": {
        "colab": {
          "base_uri": "https://localhost:8080/",
          "height": 424
        },
        "id": "gop4lnDAufYX",
        "outputId": "a2264fe8-90fe-4505-931c-b4a9edb6a043"
      },
      "source": [
        "# construct VQE\n",
        "spsa = SPSA(maxiter=300)\n",
        "ry = TwoLocal(qubitOp.num_qubits, 'ry', 'cz', reps=5, entanglement='linear')\n",
        "vqe = VQE(qubitOp, ry, spsa, quantum_instance=quantum_instance)\n",
        "\n",
        "# run VQE\n",
        "result = vqe.run(quantum_instance)\n",
        "\n",
        "# print results\n",
        "x = sample_most_likely(result.eigenstate)\n",
        "print('energy:', result.eigenvalue.real)\n",
        "print('time:', result.optimizer_time)\n",
        "print('max-cut objective:', result.eigenvalue.real + offset)\n",
        "print('solution:', max_cut.get_graph_solution(x))\n",
        "print('solution objective:', max_cut.max_cut_value(x, w))\n",
        "\n",
        "# plot results\n",
        "colors = ['r' if max_cut.get_graph_solution(x)[i] == 0 else 'c' for i in range(n)]\n",
        "draw_graph(G, colors, pos)"
      ],
      "execution_count": 15,
      "outputs": [
        {
          "output_type": "stream",
          "text": [
            "/usr/local/lib/python3.7/dist-packages/qiskit/aqua/components/optimizers/optimizer.py:50: DeprecationWarning: The package qiskit.aqua.components.optimizers is deprecated. It was moved/refactored to qiskit.algorithms.optimizers (pip install qiskit-terra). For more information see <https://github.com/Qiskit/qiskit-aqua/blob/master/README.md#migration-guide>\n",
            "  'qiskit.algorithms.optimizers', 'qiskit-terra')\n",
            "/usr/local/lib/python3.7/dist-packages/qiskit/aqua/algorithms/vq_algorithm.py:72: DeprecationWarning: The class qiskit.aqua.algorithms.VQAlgorithm is deprecated. It was moved/refactored to qiskit.algorithms.VariationalAlgorithm (pip install qiskit-terra). For more information see <https://github.com/Qiskit/qiskit-aqua/blob/master/README.md#migration-guide>\n",
            "  'qiskit-terra')\n"
          ],
          "name": "stderr"
        },
        {
          "output_type": "stream",
          "text": [
            "energy: -1.4999796718931653\n",
            "time: 6.112574577331543\n",
            "max-cut objective: -3.9999796718931653\n",
            "solution: [1. 0. 1. 0.]\n",
            "solution objective: 4.0\n"
          ],
          "name": "stdout"
        },
        {
          "output_type": "display_data",
          "data": {
            "image/png": "[encoded data removed]",
            "text/plain": [
              "<Figure size 432x288 with 1 Axes>"
            ]
          },
          "metadata": {
            "tags": []
          }
        }
      ]
    },
    {
      "cell_type": "code",
      "metadata": {
        "colab": {
          "base_uri": "https://localhost:8080/",
          "height": 300
        },
        "id": "guksOBaouiuv",
        "outputId": "4b21ffbe-d24f-4e70-d1e2-594e445d6ed8"
      },
      "source": [
        "# create minimum eigen optimizer based on VQE\n",
        "vqe_optimizer = MinimumEigenOptimizer(vqe)\n",
        "\n",
        "# solve quadratic program\n",
        "result = vqe_optimizer.solve(qp)\n",
        "print(result)\n",
        "\n",
        "colors = ['r' if result.x[i] == 0 else 'c' for i in range(n)]\n",
        "draw_graph(G, colors, pos)"
      ],
      "execution_count": 16,
      "outputs": [
        {
          "output_type": "stream",
          "text": [
            "optimal function value: -4.0\n",
            "optimal value: [1. 0. 1. 0.]\n",
            "status: SUCCESS\n"
          ],
          "name": "stdout"
        },
        {
          "output_type": "display_data",
          "data": {
            "image/png": "[encoded data removed]",
            "text/plain": [
              "<Figure size 432x288 with 1 Axes>"
            ]
          },
          "metadata": {
            "tags": []
          }
        }
      ]
    },
    {
      "cell_type": "markdown",
      "metadata": {
        "id": "BFU_-WT8uuL5"
      },
      "source": [
        "## Travelling Salesman Problem\n",
        "\n",
        "In addition to being a notorious NP-complete problem that has drawn the attention of computer scientists and mathematicians for over two centuries, the Traveling Salesman Problem (TSP) has important bearings on finance and marketing, as its name suggests. Colloquially speaking, the traveling salesman is a person that goes from city to city to sell merchandise. The objective in this case is to find the shortest path that would enable the salesman to visit all the cities and return to its hometown, i.e. the city where he started traveling. By doing this, the salesman gets to maximize potential sales in the least amount of time\n",
        "\n",
        "\n",
        "The problem derives its importance from its “hardness” and ubiquitous equivalence to other relevant combinatorial optimization problems that arise in practice.\n",
        "\n",
        "The mathematical formulation with some early analysis was proposed by W.R. Hamilton in the early 19th century. Mathematically the problem is, as in the case of Max-Cut, best abstracted in terms of graphs. The TSP on the nodes of a graph asks for the shortest Hamiltonian cycle that can be taken through each of the nodes. A Hamilton cycle is a closed path that uses every vertex of a graph once. The general solution is unknown and an algorithm that finds it efficiently (e.g., in polynomial time) is not expected to exist.\n"
      ]
    },
    {
      "cell_type": "markdown",
      "metadata": {
        "id": "AryvHgYau2QB"
      },
      "source": [
        "## Approach\n",
        "\n",
        "Find the shortest Hamiltonian cycle in a graph $G=(V,E)$ with $n=|V|$ nodes and distances, $w_{ij}$ (distance from vertex i to vertex j). A Hamiltonian cycle is described by $N^2$ variables $x_{i,p}$, where $i$ represents the node and $p$ represents its order in a prospective cycle. The decision variable takes the value 1 if the solution occurs at node $i$ at time order $p$. We require that every node can only appear once in the cycle, and for each time a node has to occur. This amounts to the two constraints (here and in the following, whenever not specified, the summands run over $0,1,…N-1)$"
      ]
    },
    {
      "cell_type": "markdown",
      "metadata": {
        "id": "rYir-y1PvLU7"
      },
      "source": [
        "$$∑_{i}x_{i,p} =1  ∀ p$$\n",
        "$$∑_{p}x_{i,p} =1  ∀i$$.\n",
        "\n",
        "For nodes in our prospective ordering, if $x_{i,p}$ and $x_{j,p+1}$ are both 1, then there should be an energy penalty if $(i,j)∉E$ (not connected in the graph). The form of this penalty is\n",
        "\n",
        "$$∑_{i,j∉E}∑_{p}x_{i,p}x_{j,p+1}>0,$$\n",
        "\n",
        "\n",
        "where it is assumed the boundary condition of the Hamiltonian cycles $(p=N)≡(p=0)$. However, here it will be assumed a fully connected graph and not include this term. The distance that needs to be minimized is\n",
        "\n",
        "$$C(x)=∑_{i,j}w_{ij}∑_{p}x_{i,p}x_{j,p+1}$$\n",
        "\n",
        "Putting this all together in a single objective function to be minimized, we get the following:\n",
        "\n",
        "\n",
        "\n",
        "$$C(x)=∑_{i,j}w_{ij}∑_{p}x_{i,p}x_{j,p+1}+A ∑_{p}(1−∑_{i}x_{i,p})^2+A ∑_{i}(1−∑_{p}x_{i,p})^2,$$\n",
        "\n",
        "where A is a free parameter. One needs to ensure that A is large enough so that these constraints are respected. One way to do this is to choose A such that $A>max(w_{ij})$.\n",
        "\n",
        "Once again, it is easy to map the problem in this form to a quantum computer, and the solution will be found by minimizing a Ising Hamiltonian.\n"
      ]
    },
    {
      "cell_type": "code",
      "metadata": {
        "colab": {
          "base_uri": "https://localhost:8080/",
          "height": 317
        },
        "id": "jCNtUs4Dum_n",
        "outputId": "323e54ac-de04-4d1f-acb9-92f815c88bf8"
      },
      "source": [
        "# Generating a graph of 3 nodes\n",
        "n = 3\n",
        "num_qubits = n ** 2\n",
        "ins = tsp.random_tsp(n, seed=123)\n",
        "print('distance\\n', ins.w)\n",
        "\n",
        "# Draw the graph\n",
        "G = nx.Graph()\n",
        "G.add_nodes_from(np.arange(0, ins.dim, 1))\n",
        "colors = ['r' for node in G.nodes()]\n",
        "\n",
        "for i in range(0, ins.dim):\n",
        "    for j in range(i+1, ins.dim):\n",
        "        G.add_edge(i, j, weight=ins.w[i,j])\n",
        "\n",
        "pos = {k: v for k, v in enumerate(ins.coord)}\n",
        "\n",
        "draw_graph(G, colors, pos)"
      ],
      "execution_count": 17,
      "outputs": [
        {
          "output_type": "stream",
          "text": [
            "distance\n",
            " [[ 0. 48. 91.]\n",
            " [48.  0. 63.]\n",
            " [91. 63.  0.]]\n"
          ],
          "name": "stdout"
        },
        {
          "output_type": "display_data",
          "data": {
            "image/png": "[encoded data removed]",
            "text/plain": [
              "<Figure size 432x288 with 1 Axes>"
            ]
          },
          "metadata": {
            "tags": []
          }
        }
      ]
    },
    {
      "cell_type": "markdown",
      "metadata": {
        "id": "bcFg9rc2wijp"
      },
      "source": [
        "## Brute Force Approach"
      ]
    },
    {
      "cell_type": "code",
      "metadata": {
        "colab": {
          "base_uri": "https://localhost:8080/",
          "height": 283
        },
        "id": "huBripM_wg1Q",
        "outputId": "7d1cf2c2-5797-4e00-cee3-22f77b2ebe58"
      },
      "source": [
        "from itertools import permutations\n",
        "\n",
        "def brute_force_tsp(w, N):\n",
        "    a=list(permutations(range(1,N)))\n",
        "    last_best_distance = 1e10\n",
        "    for i in a:\n",
        "        distance = 0\n",
        "        pre_j = 0\n",
        "        for j in i:\n",
        "            distance = distance + w[j,pre_j]\n",
        "            pre_j = j\n",
        "        distance = distance + w[pre_j,0]\n",
        "        order = (0,) + i\n",
        "        if distance < last_best_distance:\n",
        "            best_order = order\n",
        "            last_best_distance = distance\n",
        "            print('order = ' + str(order) + ' Distance = ' + str(distance))\n",
        "    return last_best_distance, best_order\n",
        "\n",
        "best_distance, best_order = brute_force_tsp(ins.w, ins.dim)\n",
        "print('Best order from brute force = ' + str(best_order) + ' with total distance = ' + str(best_distance))\n",
        "\n",
        "def draw_tsp_solution(G, order, colors, pos):\n",
        "    G2 = nx.DiGraph()\n",
        "    G2.add_nodes_from(G)\n",
        "    n = len(order)\n",
        "    for i in range(n):\n",
        "        j = (i + 1) % n\n",
        "        G2.add_edge(order[i], order[j], weight=G[order[i]][order[j]]['weight'])\n",
        "    default_axes = plt.axes(frameon=True)\n",
        "    nx.draw_networkx(G2, node_color=colors, edge_color='b', node_size=600, alpha=.8, ax=default_axes, pos=pos)\n",
        "    edge_labels = nx.get_edge_attributes(G2, 'weight')\n",
        "    nx.draw_networkx_edge_labels(G2, pos, font_color='b', edge_labels=edge_labels)\n",
        "\n",
        "draw_tsp_solution(G, best_order, colors, pos)"
      ],
      "execution_count": 18,
      "outputs": [
        {
          "output_type": "stream",
          "text": [
            "order = (0, 1, 2) Distance = 202.0\n",
            "Best order from brute force = (0, 1, 2) with total distance = 202.0\n"
          ],
          "name": "stdout"
        },
        {
          "output_type": "display_data",
          "data": {
            "image/png": "[encoded data removed]",
            "text/plain": [
              "<Figure size 432x288 with 1 Axes>"
            ]
          },
          "metadata": {
            "tags": []
          }
        }
      ]
    },
    {
      "cell_type": "markdown",
      "metadata": {
        "id": "KnKCTcp3wqKY"
      },
      "source": [
        "## Mapping to the Ising Problem"
      ]
    },
    {
      "cell_type": "code",
      "metadata": {
        "colab": {
          "base_uri": "https://localhost:8080/"
        },
        "id": "Fc1eS3c1wnMd",
        "outputId": "ddf1d3cd-a4ba-4c68-b4a7-52fc09a30ae6"
      },
      "source": [
        "qubitOp, offset = tsp.get_operator(ins)\n",
        "print('Offset:', offset)\n",
        "print('Ising Hamiltonian:')\n",
        "print(qubitOp.print_details())"
      ],
      "execution_count": 19,
      "outputs": [
        {
          "output_type": "stream",
          "text": [
            "Offset: 600303.0\n",
            "Ising Hamiltonian:\n",
            "IIIIIIIIZ\t(-100069.5+0j)\n",
            "IIIIZIIII\t(-100055.5+0j)\n",
            "IIIIZIIIZ\t(12+0j)\n",
            "IIIIIIIZI\t(-100069.5+0j)\n",
            "IIIZIIIII\t(-100055.5+0j)\n",
            "IIIZIIIZI\t(12+0j)\n",
            "IIIIIIZII\t(-100069.5+0j)\n",
            "IIIIIZIII\t(-100055.5+0j)\n",
            "IIIIIZZII\t(12+0j)\n",
            "IZIIIIIII\t(-100077+0j)\n",
            "IZIIIIIIZ\t(22.75+0j)\n",
            "ZIIIIIIII\t(-100077+0j)\n",
            "ZIIIIIIZI\t(22.75+0j)\n",
            "IIZIIIIII\t(-100077+0j)\n",
            "IIZIIIZII\t(22.75+0j)\n",
            "IIIIIZIZI\t(12+0j)\n",
            "IIIIZIZII\t(12+0j)\n",
            "IIIZIIIIZ\t(12+0j)\n",
            "IZIIIZIII\t(15.75+0j)\n",
            "ZIIIZIIII\t(15.75+0j)\n",
            "IIZZIIIII\t(15.75+0j)\n",
            "IIZIIIIZI\t(22.75+0j)\n",
            "IZIIIIZII\t(22.75+0j)\n",
            "ZIIIIIIIZ\t(22.75+0j)\n",
            "IIZIZIIII\t(15.75+0j)\n",
            "IZIZIIIII\t(15.75+0j)\n",
            "ZIIIIZIII\t(15.75+0j)\n",
            "IIIIIZIIZ\t(50000+0j)\n",
            "IIZIIIIIZ\t(50000+0j)\n",
            "IIZIIZIII\t(50000+0j)\n",
            "IIIIZIIZI\t(50000+0j)\n",
            "IZIIIIIZI\t(50000+0j)\n",
            "IZIIZIIII\t(50000+0j)\n",
            "IIIZIIZII\t(50000+0j)\n",
            "ZIIIIIZII\t(50000+0j)\n",
            "ZIIZIIIII\t(50000+0j)\n",
            "IIIIIIIZZ\t(50000+0j)\n",
            "IIIIIIZIZ\t(50000+0j)\n",
            "IIIIIIZZI\t(50000+0j)\n",
            "IIIIZZIII\t(50000+0j)\n",
            "IIIZIZIII\t(50000+0j)\n",
            "IIIZZIIII\t(50000+0j)\n",
            "IZZIIIIII\t(50000+0j)\n",
            "ZIZIIIIII\t(50000+0j)\n",
            "ZZIIIIIII\t(50000+0j)\n",
            "\n"
          ],
          "name": "stdout"
        }
      ]
    },
    {
      "cell_type": "code",
      "metadata": {
        "colab": {
          "base_uri": "https://localhost:8080/"
        },
        "id": "VwSXbiBDwu4m",
        "outputId": "ae58d14a-50c7-4064-c6f3-f11de164c94d"
      },
      "source": [
        "qp = QuadraticProgram()\n",
        "qp.from_ising(qubitOp, offset, linear=True)\n",
        "qp.to_docplex().prettyprint()"
      ],
      "execution_count": 20,
      "outputs": [
        {
          "output_type": "stream",
          "text": [
            "// This file has been generated by DOcplex\n",
            "// model name is: AnonymousModel\n",
            "// single vars section\n",
            "dvar bool x_0;\n",
            "dvar bool x_1;\n",
            "dvar bool x_2;\n",
            "dvar bool x_3;\n",
            "dvar bool x_4;\n",
            "dvar bool x_5;\n",
            "dvar bool x_6;\n",
            "dvar bool x_7;\n",
            "dvar bool x_8;\n",
            "\n",
            "minimize\n",
            " - 200000 x_0 - 200000 x_1 - 200000 x_2 - 200000 x_3 - 200000 x_4 - 200000 x_5\n",
            " - 200000 x_6 - 200000 x_7 - 200000 x_8 [ 200000 x_0*x_1 + 200000 x_0*x_2\n",
            " + 200000 x_0*x_3 + 48 x_0*x_4 + 48 x_0*x_5 + 200000 x_0*x_6 + 91 x_0*x_7\n",
            " + 91 x_0*x_8 + 200000 x_1*x_2 + 48 x_1*x_3 + 200000 x_1*x_4 + 48 x_1*x_5\n",
            " + 91 x_1*x_6 + 200000 x_1*x_7 + 91 x_1*x_8 + 48 x_2*x_3 + 48 x_2*x_4\n",
            " + 200000 x_2*x_5 + 91 x_2*x_6 + 91 x_2*x_7 + 200000 x_2*x_8 + 200000 x_3*x_4\n",
            " + 200000 x_3*x_5 + 200000 x_3*x_6 + 63 x_3*x_7 + 63 x_3*x_8 + 200000 x_4*x_5\n",
            " + 63 x_4*x_6 + 200000 x_4*x_7 + 63 x_4*x_8 + 63 x_5*x_6 + 63 x_5*x_7\n",
            " + 200000 x_5*x_8 + 200000 x_6*x_7 + 200000 x_6*x_8 + 200000 x_7*x_8 ] +\n",
            " 600000;\n",
            " \n",
            "subject to {\n",
            "\n",
            "}\n"
          ],
          "name": "stdout"
        }
      ]
    },
    {
      "cell_type": "code",
      "metadata": {
        "colab": {
          "base_uri": "https://localhost:8080/"
        },
        "id": "qz0FBMyVwxP9",
        "outputId": "6f6e6e31-fa75-4213-c7a5-eedcfc7e34f1"
      },
      "source": [
        "result = exact.solve(qp)\n",
        "print(result)"
      ],
      "execution_count": 21,
      "outputs": [
        {
          "output_type": "stream",
          "text": [
            "optimal function value: 202.0\n",
            "optimal value: [1. 0. 0. 0. 1. 0. 0. 0. 1.]\n",
            "status: SUCCESS\n"
          ],
          "name": "stdout"
        }
      ]
    },
    {
      "cell_type": "markdown",
      "metadata": {
        "id": "cKtSokPfw0Kn"
      },
      "source": [
        "## Checking that the Full Hamiltonian gives the Right Cost"
      ]
    },
    {
      "cell_type": "code",
      "metadata": {
        "colab": {
          "base_uri": "https://localhost:8080/",
          "height": 335
        },
        "id": "VN9RJ41-wzYV",
        "outputId": "f0ffeb42-47a3-4e65-efcd-a06e83e9e473"
      },
      "source": [
        "#Making the Hamiltonian in its full form and getting the lowest eigenvalue and eigenvector\n",
        "ee = NumPyMinimumEigensolver(qubitOp)\n",
        "result = ee.run()\n",
        "\n",
        "print('energy:', result.eigenvalue.real)\n",
        "print('tsp objective:', result.eigenvalue.real + offset)\n",
        "x = sample_most_likely(result.eigenstate)\n",
        "print('feasible:', tsp.tsp_feasible(x))\n",
        "z = tsp.get_tsp_solution(x)\n",
        "print('solution:', z)\n",
        "print('solution objective:', tsp.tsp_value(z, ins.w))\n",
        "draw_tsp_solution(G, z, colors, pos)"
      ],
      "execution_count": 22,
      "outputs": [
        {
          "output_type": "stream",
          "text": [
            "energy: -600101.0\n",
            "tsp objective: 202.0\n",
            "feasible: True\n",
            "solution: [0, 1, 2]\n",
            "solution objective: 202.0\n"
          ],
          "name": "stdout"
        },
        {
          "output_type": "display_data",
          "data": {
            "image/png": "[encoded data removed]",
            "text/plain": [
              "<Figure size 432x288 with 1 Axes>"
            ]
          },
          "metadata": {
            "tags": []
          }
        }
      ]
    },
    {
      "cell_type": "markdown",
      "metadata": {
        "id": "zXDYqqeow7mi"
      },
      "source": [
        "## Running it on Quantum Computer\n",
        "\n",
        "We run the optimization routine using a feedback loop with a quantum computer that uses trial functions built with $Y$ single-qubit rotations, \n",
        "$$ U_{single}(θ)= ∏^{n}_{i=1} Y(θ_i)$$, and entangler steps $U_{entangler}$."
      ]
    },
    {
      "cell_type": "code",
      "metadata": {
        "id": "NZ76-wt-w6k9"
      },
      "source": [
        "aqua_globals.random_seed = np.random.default_rng(123)\n",
        "seed = 10598\n",
        "backend = Aer.get_backend('statevector_simulator')\n",
        "quantum_instance = QuantumInstance(backend, seed_simulator=seed, seed_transpiler=seed)"
      ],
      "execution_count": 23,
      "outputs": []
    },
    {
      "cell_type": "code",
      "metadata": {
        "colab": {
          "base_uri": "https://localhost:8080/",
          "height": 335
        },
        "id": "GMCoa9QmxMya",
        "outputId": "78e23254-148f-4c0d-83cb-d61875629dfe"
      },
      "source": [
        "spsa = SPSA(maxiter=300)\n",
        "ry = TwoLocal(qubitOp.num_qubits, 'ry', 'cz', reps=5, entanglement='linear')\n",
        "vqe = VQE(qubitOp, ry, spsa, quantum_instance=quantum_instance)\n",
        "\n",
        "result = vqe.run(quantum_instance)\n",
        "\n",
        "print('energy:', result.eigenvalue.real)\n",
        "print('time:', result.optimizer_time)\n",
        "x = sample_most_likely(result.eigenstate)\n",
        "print('feasible:', tsp.tsp_feasible(x))\n",
        "z = tsp.get_tsp_solution(x)\n",
        "print('solution:', z)\n",
        "print('solution objective:', tsp.tsp_value(z, ins.w))\n",
        "draw_tsp_solution(G, z, colors, pos)"
      ],
      "execution_count": 24,
      "outputs": [
        {
          "output_type": "stream",
          "text": [
            "energy: -587129.7995590195\n",
            "time: 14.691826581954956\n",
            "feasible: True\n",
            "solution: [1, 2, 0]\n",
            "solution objective: 202.0\n"
          ],
          "name": "stdout"
        },
        {
          "output_type": "display_data",
          "data": {
            "image/png": "[encoded data removed]",
            "text/plain": [
              "<Figure size 432x288 with 1 Axes>"
            ]
          },
          "metadata": {
            "tags": []
          }
        }
      ]
    },
    {
      "cell_type": "code",
      "metadata": {
        "id": "gXpuf4CGxP2a"
      },
      "source": [
        "aqua_globals.random_seed = np.random.default_rng(123)\n",
        "seed = 10598\n",
        "backend = Aer.get_backend('statevector_simulator')\n",
        "quantum_instance = QuantumInstance(backend, seed_simulator=seed, seed_transpiler=seed)"
      ],
      "execution_count": 25,
      "outputs": []
    },
    {
      "cell_type": "code",
      "metadata": {
        "colab": {
          "base_uri": "https://localhost:8080/",
          "height": 389
        },
        "id": "7MdGiJ_7xSXL",
        "outputId": "0ba8f7b5-d760-477e-c29f-4fa128a950c9"
      },
      "source": [
        "# create minimum eigen optimizer based on VQE\n",
        "vqe_optimizer = MinimumEigenOptimizer(vqe)\n",
        "\n",
        "# solve quadratic program\n",
        "result = vqe_optimizer.solve(qp)\n",
        "print(result)\n",
        "\n",
        "z = tsp.get_tsp_solution(x)\n",
        "print('solution:', z)\n",
        "print('solution objective:', tsp.tsp_value(z, ins.w))\n",
        "draw_tsp_solution(G, z, colors, pos)"
      ],
      "execution_count": 26,
      "outputs": [
        {
          "output_type": "stream",
          "text": [
            "/usr/local/lib/python3.7/dist-packages/qiskit/optimization/algorithms/optimization_algorithm.py:136: UserWarning: The sum of probability of samples is not close to 1: 0.9999899678400582\n",
            "  warn('The sum of probability of samples is not close to 1: {}'.format(sum_prob))\n"
          ],
          "name": "stderr"
        },
        {
          "output_type": "stream",
          "text": [
            "optimal function value: 202.0\n",
            "optimal value: [0. 0. 1. 0. 1. 0. 1. 0. 0.]\n",
            "status: SUCCESS\n",
            "solution: [1, 2, 0]\n",
            "solution objective: 202.0\n"
          ],
          "name": "stdout"
        },
        {
          "output_type": "display_data",
          "data": {
            "image/png": "[encoded data removed]",
            "text/plain": [
              "<Figure size 432x288 with 1 Axes>"
            ]
          },
          "metadata": {
            "tags": []
          }
        }
      ]
    },
    {
      "cell_type": "code",
      "metadata": {
        "id": "G96dwYwvxUF6"
      },
      "source": [
        ""
      ],
      "execution_count": null,
      "outputs": []
    }
  ]
}