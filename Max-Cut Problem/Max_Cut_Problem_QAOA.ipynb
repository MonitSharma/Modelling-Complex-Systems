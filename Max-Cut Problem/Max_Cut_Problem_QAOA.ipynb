{
  "nbformat": 4,
  "nbformat_minor": 0,
  "metadata": {
    "colab": {
      "name": "Max-Cut Problem QAOA.ipynb",
      "provenance": []
    },
    "kernelspec": {
      "name": "python3",
      "display_name": "Python 3"
    },
    "language_info": {
      "name": "python"
    }
  },
  "cells": [
    {
      "cell_type": "markdown",
      "metadata": {
        "id": "sc0RqUZw12Q-"
      },
      "source": [
        "# QAOA for MaxCut\n",
        "The Quantum Approximate Optimization Algorithm for solving the Max-Cut Problem.\n",
        "\n",
        "## The Max-Cut Problem\n",
        "Consider a graph with $m$ edges and $n$ vertices. We seek the partition \n",
        "$z$\n",
        " of the vertices into two sets \n",
        "$A$\n",
        " and \n",
        "$B$\n",
        " which maximizes\n",
        "\n",
        " $$C(z)=\\sum^{m}_{\\alpha=1} C_{\\alpha}(z)$$\n"
      ]
    },
    {
      "cell_type": "markdown",
      "metadata": {
        "id": "vXKvaM8512Lx"
      },
      "source": [
        "where \n",
        "$C$ counts the number of edges cut. \n",
        "$C_{\\alpha}(z)=1$\n",
        " if \n",
        "$z$\n",
        " places one vertex from the \n",
        "$α^{th}$\n",
        " edge in set \n",
        "$A$\n",
        " and the other in set \n",
        "$B$\n",
        ", and \n",
        "$C_{\\alpha}(z)=0$\n",
        " otherwise. Finding a cut which yields the maximum possible value of \n",
        "$C$\n",
        " is an NP-complete problem, so our best hope for a polynomial-time algorithm lies in an approximate optimization. In the case of MaxCut, this means finding a partition \n",
        "$z$\n",
        " which yields a value for \n",
        "$C(z)$\n",
        " that is close to the maximum possible value.\n"
      ]
    },
    {
      "cell_type": "markdown",
      "metadata": {
        "id": "Rqacd2fb12GG"
      },
      "source": [
        "We can represent the assignment of vertices to set \n",
        "$A$\n",
        " or \n",
        "$B$\n",
        " using a bitstring, \n",
        "$z=z_1...z_n$\n",
        " where \n",
        "$z_i=0$\n",
        " if the \n",
        "$i^{th}$\n",
        " vertex is in \n",
        "$A$\n",
        " and \n",
        "$z_i=1$\n",
        " if it is in \n",
        "$B$\n",
        ". "
      ]
    },
    {
      "cell_type": "markdown",
      "metadata": {
        "id": "bjgDRcl73jti"
      },
      "source": [
        "## A circuit for QAOA\n",
        "\n",
        "This section describes implementing a circuit for QAOA using basic unitary gates to find approximate solutions to the MaxCut problem. Firstly, denoting the partitions using computational basis states \n",
        "$|\n",
        "z\n",
        "⟩$\n",
        ", we can represent the terms in the objective function as operators acting on these states\n",
        "\n",
        "$$C_{\\alpha}=\\frac{1}{2}(1−\\sigma_{z}^{j} \\sigma_{z}^{k})$$\n",
        "\n",
        "\n",
        "where the $\\alpha^{th}$\n",
        " edge is between vertices  $(j,k)$.\n",
        "\n",
        "$C_{\\alpha}$ has eigenvalue 1 if and only if the $j^{th}$ and $k^{th}$\n",
        " qubits have different z-axis measurement values, representing separate partitions. The objective function \n",
        "C\n",
        " can be considered a diagonal operator with integer eigenvalues\n"
      ]
    },
    {
      "cell_type": "markdown",
      "metadata": {
        "id": "MW2S7uoP4lBD"
      },
      "source": [
        "# Implementing QAOA in PennyLane\n",
        "\n",
        "## Imports and Setup"
      ]
    },
    {
      "cell_type": "code",
      "metadata": {
        "id": "PjVSOx8U1NaO"
      },
      "source": [
        "import pennylane as qml\n",
        "from pennylane import numpy as np\n",
        "\n",
        "np.random.seed(135)"
      ],
      "execution_count": 3,
      "outputs": []
    },
    {
      "cell_type": "markdown",
      "metadata": {
        "id": "O9a7Foaz4w-a"
      },
      "source": [
        "## Operators\n",
        "\n",
        "We specify the number of qubits (vertices) with n_wires and compose the unitary operators using the definitions above. \n",
        "$U_B$\n",
        " operators act on individual wires, while \n",
        "$U_C$\n",
        " operators act on wires whose corresponding vertices are joined by an edge in the graph. We also define the graph using the list graph, which contains the tuples of vertices defining each edge in the graph"
      ]
    },
    {
      "cell_type": "code",
      "metadata": {
        "id": "0YAlVmx41WhL"
      },
      "source": [
        "n_wires = 4\n",
        "graph = [(0, 1), (0, 3), (1, 2), (2, 3)]\n",
        "\n",
        "# unitary operator U_B with parameter beta\n",
        "def U_B(beta):\n",
        "    for wire in range(n_wires):\n",
        "        qml.RX(2 * beta, wires=wire)\n",
        "\n",
        "\n",
        "# unitary operator U_C with parameter gamma\n",
        "def U_C(gamma):\n",
        "    for edge in graph:\n",
        "        wire1 = edge[0]\n",
        "        wire2 = edge[1]\n",
        "        qml.CNOT(wires=[wire1, wire2])\n",
        "        qml.RZ(gamma, wires=wire2)\n",
        "        qml.CNOT(wires=[wire1, wire2])"
      ],
      "execution_count": 5,
      "outputs": []
    },
    {
      "cell_type": "markdown",
      "metadata": {
        "id": "rG6omLDH45hr"
      },
      "source": [
        "We will need a way to sample a measurement of multiple qubits in the computational basis, so we define a Hermitian operator to do this. The eigenvalues of the operator are the qubit measurement values in integer form."
      ]
    },
    {
      "cell_type": "code",
      "metadata": {
        "id": "pw8uskCk1b5h"
      },
      "source": [
        "def comp_basis_measurement(wires):\n",
        "    n_wires = len(wires)\n",
        "    return qml.Hermitian(np.diag(range(2 ** n_wires)), wires=wires)"
      ],
      "execution_count": 6,
      "outputs": []
    },
    {
      "cell_type": "markdown",
      "metadata": {
        "id": "pvkoRFuS47yA"
      },
      "source": [
        "## Circuit\n",
        "Next, we create a quantum device with 4 qubits."
      ]
    },
    {
      "cell_type": "code",
      "metadata": {
        "id": "VC_biaiR1lz5"
      },
      "source": [
        "dev = qml.device(\"default.qubit\", wires=n_wires, analytic=True, shots=1)"
      ],
      "execution_count": 7,
      "outputs": []
    },
    {
      "cell_type": "markdown",
      "metadata": {
        "id": "O0iSbasM5AIZ"
      },
      "source": [
        "We also require a quantum node which will apply the operators according to the angle parameters, and return the expectation value of the observable \n",
        "\n",
        "$\\sigma^{j}_{z} \\sigma^{k}_{z}$\n",
        " to be used in each term of the objective function later on. The argument edge specifies the chosen edge term in the objective function, \n",
        "$(\n",
        "j\n",
        ",\n",
        "k\n",
        ")$\n",
        ". Once optimized, the same quantum node can be used for sampling an approximately optimal bitstring if executed with the edge keyword set to None. Additionally, we specify the number of layers (repeated applications of \n",
        "$U\n",
        "_B\n",
        "U\n",
        "_C$\n",
        ") using the keyword n_layers.\n",
        "\n"
      ]
    },
    {
      "cell_type": "code",
      "metadata": {
        "id": "vTsrDVBG1oOh"
      },
      "source": [
        "pauli_z = [[1, 0], [0, -1]]\n",
        "pauli_z_2 = np.kron(pauli_z, pauli_z)\n",
        "\n",
        "\n",
        "@qml.qnode(dev)\n",
        "def circuit(gammas, betas, edge=None, n_layers=1):\n",
        "    # apply Hadamards to get the n qubit |+> state\n",
        "    for wire in range(n_wires):\n",
        "        qml.Hadamard(wires=wire)\n",
        "    # p instances of unitary operators\n",
        "    for i in range(n_layers):\n",
        "        U_C(gammas[i])\n",
        "        U_B(betas[i])\n",
        "    if edge is None:\n",
        "        # measurement phase\n",
        "        return qml.sample(comp_basis_measurement(range(n_wires)))\n",
        "    # during the optimization phase we are evaluating a term\n",
        "    # in the objective using expval\n",
        "    return qml.expval(qml.Hermitian(pauli_z_2, wires=edge))"
      ],
      "execution_count": 8,
      "outputs": []
    },
    {
      "cell_type": "markdown",
      "metadata": {
        "id": "UDAxTUJf5aYf"
      },
      "source": [
        "## Optimization\n",
        "\n"
      ]
    },
    {
      "cell_type": "code",
      "metadata": {
        "colab": {
          "base_uri": "https://localhost:8080/"
        },
        "id": "CzODUh5r1rJx",
        "outputId": "c58878aa-7f3b-4886-deaa-a41bc3a1368f"
      },
      "source": [
        "def qaoa_maxcut(n_layers=1):\n",
        "    print(\"\\np={:d}\".format(n_layers))\n",
        "\n",
        "    # initialize the parameters near zero\n",
        "    init_params = 0.01 * np.random.rand(2, 2)\n",
        "\n",
        "    # minimize the negative of the objective function\n",
        "    def objective(params):\n",
        "        gammas = params[0]\n",
        "        betas = params[1]\n",
        "        neg_obj = 0\n",
        "        for edge in graph:\n",
        "            # objective for the MaxCut problem\n",
        "            neg_obj -= 0.5 * (1 - circuit(gammas, betas, edge=edge, n_layers=n_layers))\n",
        "        return neg_obj\n",
        "\n",
        "    # initialize optimizer: Adagrad works well empirically\n",
        "    opt = qml.AdagradOptimizer(stepsize=0.5)\n",
        "\n",
        "    # optimize parameters in objective\n",
        "    params = init_params\n",
        "    steps = 30\n",
        "    for i in range(steps):\n",
        "        params = opt.step(objective, params)\n",
        "        if (i + 1) % 5 == 0:\n",
        "            print(\"Objective after step {:5d}: {: .7f}\".format(i + 1, -objective(params)))\n",
        "\n",
        "    # sample measured bitstrings 100 times\n",
        "    bit_strings = []\n",
        "    n_samples = 100\n",
        "    for i in range(0, n_samples):\n",
        "        bit_strings.append(int(circuit(params[0], params[1], edge=None, n_layers=n_layers)))\n",
        "\n",
        "    # print optimal parameters and most frequently sampled bitstring\n",
        "    counts = np.bincount(np.array(bit_strings))\n",
        "    most_freq_bit_string = np.argmax(counts)\n",
        "    print(\"Optimized (gamma, beta) vectors:\\n{}\".format(params[:, :n_layers]))\n",
        "    print(\"Most frequently sampled bit string is: {:04b}\".format(most_freq_bit_string))\n",
        "\n",
        "    return -objective(params), bit_strings\n",
        "\n",
        "\n",
        "# perform qaoa on our graph with p=1,2 and\n",
        "# keep the bitstring sample lists\n",
        "bitstrings1 = qaoa_maxcut(n_layers=1)[1]\n",
        "bitstrings2 = qaoa_maxcut(n_layers=2)[1]"
      ],
      "execution_count": 9,
      "outputs": [
        {
          "output_type": "stream",
          "text": [
            "\n",
            "p=1\n",
            "Objective after step     5:  2.7867521\n",
            "Objective after step    10:  2.9984850\n",
            "Objective after step    15:  2.9999902\n",
            "Objective after step    20:  2.9999999\n",
            "Objective after step    25:  3.0000000\n",
            "Objective after step    30:  3.0000000\n",
            "Optimized (gamma, beta) vectors:\n",
            "[[-0.78539816]\n",
            " [-1.17809782]]\n",
            "Most frequently sampled bit string is: 1010\n",
            "\n",
            "p=2\n",
            "Objective after step     5:  2.3554196\n",
            "Objective after step    10:  3.3328592\n",
            "Objective after step    15:  3.8699256\n",
            "Objective after step    20:  3.9893538\n",
            "Objective after step    25:  3.9993536\n",
            "Objective after step    30:  3.9999635\n",
            "Optimized (gamma, beta) vectors:\n",
            "[[ 1.56715833 -0.78313748]\n",
            " [-1.17674955 -0.78574624]]\n",
            "Most frequently sampled bit string is: 0101\n"
          ],
          "name": "stdout"
        }
      ]
    },
    {
      "cell_type": "markdown",
      "metadata": {
        "id": "px0k3prx5gGy"
      },
      "source": [
        "## Plotting the Results\n",
        "\n",
        "We can plot the distribution of measurements obtained from the optimized circuits. As expected for this graph, the partitions 0101 and 1010 are measured with the highest frequencies, and in the case where we set n_layers=2 we obtain one of the optimal partitions with 100% certainty."
      ]
    },
    {
      "cell_type": "code",
      "metadata": {
        "colab": {
          "base_uri": "https://localhost:8080/",
          "height": 297
        },
        "id": "AKpc1GTA1uOp",
        "outputId": "eddd7306-6aa5-41c0-f19e-b7317ba00244"
      },
      "source": [
        "import matplotlib.pyplot as plt\n",
        "\n",
        "xticks = range(0, 16)\n",
        "xtick_labels = list(map(lambda x: format(x, \"04b\"), xticks))\n",
        "bins = np.arange(0, 17) - 0.5\n",
        "\n",
        "fig, (ax1, ax2) = plt.subplots(1, 2, figsize=(8, 4))\n",
        "plt.subplot(1, 2, 1)\n",
        "plt.title(\"n_layers=1\")\n",
        "plt.xlabel(\"bitstrings\")\n",
        "plt.ylabel(\"freq.\")\n",
        "plt.xticks(xticks, xtick_labels, rotation=\"vertical\")\n",
        "plt.hist(bitstrings1, bins=bins)\n",
        "plt.subplot(1, 2, 2)\n",
        "plt.title(\"n_layers=2\")\n",
        "plt.xlabel(\"bitstrings\")\n",
        "plt.ylabel(\"freq.\")\n",
        "plt.xticks(xticks, xtick_labels, rotation=\"vertical\")\n",
        "plt.hist(bitstrings2, bins=bins)\n",
        "plt.tight_layout()\n",
        "plt.show()"
      ],
      "execution_count": 10,
      "outputs": [
        {
          "output_type": "display_data",
          "data": {
            "image/png": "[encoded data removed]",
            "text/plain": [
              "<Figure size 576x288 with 2 Axes>"
            ]
          },
          "metadata": {
            "tags": [],
            "needs_background": "light"
          }
        }
      ]
    },
    {
      "cell_type": "code",
      "metadata": {
        "id": "VDh8OzFY1xZK"
      },
      "source": [
        ""
      ],
      "execution_count": null,
      "outputs": []
    },
    {
      "cell_type": "markdown",
      "metadata": {
        "id": "mX1HLOuG11Tm"
      },
      "source": [
        ""
      ]
    }
  ]
}