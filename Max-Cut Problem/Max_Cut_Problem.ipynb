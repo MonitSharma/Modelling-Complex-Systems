{
  "nbformat": 4,
  "nbformat_minor": 0,
  "metadata": {
    "colab": {
      "name": "Max-Cut Problem.ipynb",
      "provenance": []
    },
    "kernelspec": {
      "name": "python3",
      "display_name": "Python 3"
    },
    "language_info": {
      "name": "python"
    }
  },
  "cells": [
    {
      "cell_type": "markdown",
      "metadata": {
        "id": "V13TLn3RltOi"
      },
      "source": [
        "## The Max-Cut Problem"
      ]
    },
    {
      "cell_type": "code",
      "metadata": {
        "colab": {
          "base_uri": "https://localhost:8080/"
        },
        "id": "qdrUd0RtjKtt",
        "outputId": "d50b17a8-891f-492c-be47-e187bc94abe4"
      },
      "source": [
        "# useful additional packages\n",
        "import matplotlib.pyplot as plt\n",
        "import matplotlib.axes as axes\n",
        "%matplotlib inline\n",
        "import numpy as np\n",
        "import networkx as nx\n",
        "\n",
        "from qiskit import Aer\n",
        "from qiskit.tools.visualization import plot_histogram\n",
        "from qiskit.circuit.library import TwoLocal\n",
        "from qiskit.optimization.applications.ising import max_cut, tsp\n",
        "from qiskit.aqua.algorithms import VQE, NumPyMinimumEigensolver\n",
        "from qiskit.aqua.components.optimizers import SPSA\n",
        "from qiskit.aqua import aqua_globals\n",
        "from qiskit.aqua import QuantumInstance\n",
        "from qiskit.optimization.applications.ising.common import sample_most_likely\n",
        "from qiskit.optimization.algorithms import MinimumEigenOptimizer\n",
        "from qiskit.optimization.problems import QuadraticProgram\n",
        "\n",
        "# setup aqua logging\n",
        "import logging\n",
        "from qiskit.aqua import set_qiskit_aqua_logging\n",
        "# set_qiskit_aqua_logging(logging.DEBUG)  # choose INFO, DEBUG to see the log"
      ],
      "execution_count": 2,
      "outputs": [
        {
          "output_type": "stream",
          "text": [
            "/usr/local/lib/python3.7/dist-packages/qiskit/optimization/__init__.py:92: DeprecationWarning: The package qiskit.optimization is deprecated. It was moved/refactored to qiskit_optimization (pip install qiskit-optimization). For more information see <https://github.com/Qiskit/qiskit-aqua/blob/master/README.md#migration-guide>\n",
            "  warn_package('optimization', 'qiskit_optimization', 'qiskit-optimization')\n"
          ],
          "name": "stderr"
        }
      ]
    },
    {
      "cell_type": "markdown",
      "metadata": {
        "id": "qZdfyraxjUbb"
      },
      "source": [
        "## Max-Cut Problem"
      ]
    },
    {
      "cell_type": "code",
      "metadata": {
        "colab": {
          "base_uri": "https://localhost:8080/",
          "height": 248
        },
        "id": "bUCUuIDXjQRr",
        "outputId": "1d760b29-4c99-48a6-ea2d-15adbd9b5243"
      },
      "source": [
        "# Generating a graph of 4 nodes\n",
        "\n",
        "n=4 # Number of nodes in graph\n",
        "G=nx.Graph()\n",
        "G.add_nodes_from(np.arange(0,n,1))\n",
        "elist=[(0,1,1.0),(0,2,1.0),(0,3,1.0),(1,2,1.0),(2,3,1.0)]\n",
        "# tuple is (i,j,weight) where (i,j) is the edge\n",
        "G.add_weighted_edges_from(elist)\n",
        "\n",
        "colors = ['r' for node in G.nodes()]\n",
        "pos = nx.spring_layout(G)\n",
        "\n",
        "def draw_graph(G, colors, pos):\n",
        "    default_axes = plt.axes(frameon=True)\n",
        "    nx.draw_networkx(G, node_color=colors, node_size=600, alpha=.8, ax=default_axes, pos=pos)\n",
        "    edge_labels = nx.get_edge_attributes(G, 'weight')\n",
        "    nx.draw_networkx_edge_labels(G, pos=pos, edge_labels=edge_labels)\n",
        "\n",
        "draw_graph(G, colors, pos)"
      ],
      "execution_count": 3,
      "outputs": [
        {
          "output_type": "display_data",
          "data": {
            "image/png": "[encoded data removed]",
            "text/plain": [
              "<Figure size 432x288 with 1 Axes>"
            ]
          },
          "metadata": {
            "tags": []
          }
        }
      ]
    },
    {
      "cell_type": "code",
      "metadata": {
        "colab": {
          "base_uri": "https://localhost:8080/"
        },
        "id": "DQ77mj0PkQfq",
        "outputId": "02ea7e30-b441-40a4-a209-f7f51e27f424"
      },
      "source": [
        "# Computing the weight matrix from the random graph\n",
        "w = np.zeros([n,n])\n",
        "for i in range(n):\n",
        "    for j in range(n):\n",
        "        temp = G.get_edge_data(i,j,default=0)\n",
        "        if temp != 0:\n",
        "            w[i,j] = temp['weight']\n",
        "print(w)"
      ],
      "execution_count": 4,
      "outputs": [
        {
          "output_type": "stream",
          "text": [
            "[[0. 1. 1. 1.]\n",
            " [1. 0. 1. 0.]\n",
            " [1. 1. 0. 1.]\n",
            " [1. 0. 1. 0.]]\n"
          ],
          "name": "stdout"
        }
      ]
    },
    {
      "cell_type": "markdown",
      "metadata": {
        "id": "NDQdYpZ-kS75"
      },
      "source": [
        "## Brute Force Approach\n",
        "Try all possible $2^n$ combinations. For $n=4$, as in this example, one deals with only $16$ combinations, but for $n = 1000$, one has $1.071509e+30$ combinations, which is impractical to deal with by using a brute force approach."
      ]
    },
    {
      "cell_type": "code",
      "metadata": {
        "colab": {
          "base_uri": "https://localhost:8080/",
          "height": 560
        },
        "id": "Wv-33ZhEkR1O",
        "outputId": "4169bea3-df62-4624-f7f6-8beb4769ad78"
      },
      "source": [
        "best_cost_brute = 0\n",
        "for b in range(2**n):\n",
        "    x = [int(t) for t in reversed(list(bin(b)[2:].zfill(n)))]\n",
        "    cost = 0\n",
        "    for i in range(n):\n",
        "        for j in range(n):\n",
        "            cost = cost + w[i,j]*x[i]*(1-x[j])\n",
        "    if best_cost_brute < cost:\n",
        "        best_cost_brute = cost\n",
        "        xbest_brute = x\n",
        "    print('case = ' + str(x)+ ' cost = ' + str(cost))\n",
        "\n",
        "colors = ['r' if xbest_brute[i] == 0 else 'c' for i in range(n)]\n",
        "draw_graph(G, colors, pos)\n",
        "print('\\nBest solution = ' + str(xbest_brute) + ' cost = ' + str(best_cost_brute))"
      ],
      "execution_count": 5,
      "outputs": [
        {
          "output_type": "stream",
          "text": [
            "case = [0, 0, 0, 0] cost = 0.0\n",
            "case = [1, 0, 0, 0] cost = 3.0\n",
            "case = [0, 1, 0, 0] cost = 2.0\n",
            "case = [1, 1, 0, 0] cost = 3.0\n",
            "case = [0, 0, 1, 0] cost = 3.0\n",
            "case = [1, 0, 1, 0] cost = 4.0\n",
            "case = [0, 1, 1, 0] cost = 3.0\n",
            "case = [1, 1, 1, 0] cost = 2.0\n",
            "case = [0, 0, 0, 1] cost = 2.0\n",
            "case = [1, 0, 0, 1] cost = 3.0\n",
            "case = [0, 1, 0, 1] cost = 4.0\n",
            "case = [1, 1, 0, 1] cost = 3.0\n",
            "case = [0, 0, 1, 1] cost = 3.0\n",
            "case = [1, 0, 1, 1] cost = 2.0\n",
            "case = [0, 1, 1, 1] cost = 3.0\n",
            "case = [1, 1, 1, 1] cost = 0.0\n",
            "\n",
            "Best solution = [1, 0, 1, 0] cost = 4.0\n"
          ],
          "name": "stdout"
        },
        {
          "output_type": "display_data",
          "data": {
            "image/png": "[encoded data removed]",
            "text/plain": [
              "<Figure size 432x288 with 1 Axes>"
            ]
          },
          "metadata": {
            "tags": []
          }
        }
      ]
    },
    {
      "cell_type": "markdown",
      "metadata": {
        "id": "cCJjTz4zkiYH"
      },
      "source": [
        "## Mapping to the Ising Problem\n",
        "\n"
      ]
    },
    {
      "cell_type": "code",
      "metadata": {
        "colab": {
          "base_uri": "https://localhost:8080/"
        },
        "id": "6aJJXBEUkfCV",
        "outputId": "c88c3460-36e7-4d36-f3d2-61f6646a1511"
      },
      "source": [
        "qubitOp, offset = max_cut.get_operator(w)\n",
        "print('Offset:', offset)\n",
        "print('Ising Hamiltonian:')\n",
        "print(qubitOp.print_details())"
      ],
      "execution_count": 8,
      "outputs": [
        {
          "output_type": "stream",
          "text": [
            "Offset: -2.5\n",
            "Ising Hamiltonian:\n",
            "IIZZ\t(0.5+0j)\n",
            "IZIZ\t(0.5+0j)\n",
            "IZZI\t(0.5+0j)\n",
            "ZIIZ\t(0.5+0j)\n",
            "ZZII\t(0.5+0j)\n",
            "\n"
          ],
          "name": "stdout"
        },
        {
          "output_type": "stream",
          "text": [
            "/usr/local/lib/python3.7/dist-packages/qiskit/optimization/applications/ising/max_cut.py:54: DeprecationWarning: The package qiskit.aqua.operators is deprecated. It was moved/refactored to qiskit.opflow (pip install qiskit-terra). For more information see <https://github.com/Qiskit/qiskit-aqua/blob/master/README.md#migration-guide>\n",
            "  return WeightedPauliOperator(paulis=pauli_list), shift\n"
          ],
          "name": "stderr"
        }
      ]
    },
    {
      "cell_type": "code",
      "metadata": {
        "colab": {
          "base_uri": "https://localhost:8080/"
        },
        "id": "wXtZGoYoksLv",
        "outputId": "68099851-1856-4221-ae26-4496454e4473"
      },
      "source": [
        "# mapping Ising Hamiltonian to Quadratic Program\n",
        "qp = QuadraticProgram()\n",
        "qp.from_ising(qubitOp, offset)\n",
        "qp.to_docplex().prettyprint()"
      ],
      "execution_count": 9,
      "outputs": [
        {
          "output_type": "stream",
          "text": [
            "// This file has been generated by DOcplex\n",
            "// model name is: AnonymousModel\n",
            "// single vars section\n",
            "dvar bool x_0;\n",
            "dvar bool x_1;\n",
            "dvar bool x_2;\n",
            "dvar bool x_3;\n",
            "\n",
            "minimize\n",
            " [ - 3 x_0^2 + 2 x_0*x_1 + 2 x_0*x_2 + 2 x_0*x_3 - 2 x_1^2 + 2 x_1*x_2\n",
            " - 3 x_2^2 + 2 x_2*x_3 - 2 x_3^2 ];\n",
            " \n",
            "subject to {\n",
            "\n",
            "}\n"
          ],
          "name": "stdout"
        }
      ]
    },
    {
      "cell_type": "code",
      "metadata": {
        "colab": {
          "base_uri": "https://localhost:8080/"
        },
        "id": "g4xpFOpJk3eh",
        "outputId": "380f4681-39b1-43e7-d287-97e32253ee95"
      },
      "source": [
        "# solving Quadratic Program using exact classical eigensolver\n",
        "exact = MinimumEigenOptimizer(NumPyMinimumEigensolver())\n",
        "result = exact.solve(qp)\n",
        "print(result)"
      ],
      "execution_count": 10,
      "outputs": [
        {
          "output_type": "stream",
          "text": [
            "optimal function value: -4.0\n",
            "optimal value: [1. 0. 1. 0.]\n",
            "status: SUCCESS\n"
          ],
          "name": "stdout"
        },
        {
          "output_type": "stream",
          "text": [
            "/usr/local/lib/python3.7/dist-packages/qiskit/aqua/algorithms/minimum_eigen_solvers/minimum_eigen_solver.py:38: DeprecationWarning: The package qiskit.aqua.algorithms.minimum_eigen_solvers is deprecated. It was moved/refactored to qiskit.algorithms.minimum_eigen_solvers (pip install qiskit-terra). For more information see <https://github.com/Qiskit/qiskit-aqua/blob/master/README.md#migration-guide>\n",
            "  'qiskit-terra')\n",
            "/usr/local/lib/python3.7/dist-packages/qiskit/aqua/algorithms/eigen_solvers/eigen_solver.py:38: DeprecationWarning: The package qiskit.aqua.algorithms.eigen_solvers is deprecated. It was moved/refactored to qiskit.algorithms.eigen_solvers (pip install qiskit-terra). For more information see <https://github.com/Qiskit/qiskit-aqua/blob/master/README.md#migration-guide>\n",
            "  'qiskit-terra')\n"
          ],
          "name": "stderr"
        }
      ]
    },
    {
      "cell_type": "markdown",
      "metadata": {
        "id": "D8vFkScgk7j8"
      },
      "source": [
        "Since the problem was cast to a minimization problem, the solution of −4 corresponds to the optimum."
      ]
    },
    {
      "cell_type": "markdown",
      "metadata": {
        "id": "5f9Gbo5ak9az"
      },
      "source": [
        "## Checking whether the Full Hamiltonian gives the right cost\n"
      ]
    },
    {
      "cell_type": "code",
      "metadata": {
        "colab": {
          "base_uri": "https://localhost:8080/",
          "height": 372
        },
        "id": "P9EW6Hdmk5P1",
        "outputId": "25d4a32a-4d75-438a-aec9-75d93188f35b"
      },
      "source": [
        "#Making the Hamiltonian in its full form and getting the lowest eigenvalue and eigenvector\n",
        "ee = NumPyMinimumEigensolver(qubitOp)\n",
        "result = ee.run()\n",
        "\n",
        "x = sample_most_likely(result.eigenstate)\n",
        "print('energy:', result.eigenvalue.real)\n",
        "print('max-cut objective:', result.eigenvalue.real + offset)\n",
        "print('solution:', max_cut.get_graph_solution(x))\n",
        "print('solution objective:', max_cut.max_cut_value(x, w))\n",
        "\n",
        "colors = ['r' if max_cut.get_graph_solution(x)[i] == 0 else 'c' for i in range(n)]\n",
        "draw_graph(G, colors, pos)"
      ],
      "execution_count": 11,
      "outputs": [
        {
          "output_type": "stream",
          "text": [
            "/usr/local/lib/python3.7/dist-packages/qiskit/aqua/operators/state_fns/vector_state_fn.py:215: DeprecationWarning: The variable qiskit.aqua.aqua_globals is deprecated. It was moved/refactored to qiskit.utils.algorithm_globals (pip install qiskit-terra). For more information see <https://github.com/Qiskit/qiskit-aqua/blob/master/README.md#migration-guide>\n",
            "  unique, counts = np.unique(aqua_globals.random.choice(list(deterministic_counts.keys()),\n"
          ],
          "name": "stderr"
        },
        {
          "output_type": "stream",
          "text": [
            "energy: -1.5\n",
            "max-cut objective: -4.0\n",
            "solution: [0 1 0 1]\n",
            "solution objective: 4.0\n"
          ],
          "name": "stdout"
        },
        {
          "output_type": "display_data",
          "data": {
            "image/png": "[encoded data removed]",
            "text/plain": [
              "<Figure size 432x288 with 1 Axes>"
            ]
          },
          "metadata": {
            "tags": []
          }
        }
      ]
    },
    {
      "cell_type": "markdown",
      "metadata": {
        "id": "P-vzJAowlGkW"
      },
      "source": [
        "## Running it on a Quantum Computer\n",
        "\n",
        "We run the optimization routine using a feedback loop with a quantum computer that uses trial functions built with Y single-qubit rotations, $U_{single}(\\theta)=\\prod^{n}_{i=1} Y(\\theta_i)$, and entangler steps $U_{entangler}$."
      ]
    },
    {
      "cell_type": "code",
      "metadata": {
        "colab": {
          "base_uri": "https://localhost:8080/"
        },
        "id": "JluXbjTPlE0B",
        "outputId": "40e56ac4-aa56-4128-8f25-ca6337d91091"
      },
      "source": [
        "aqua_globals.random_seed = np.random.default_rng(123)\n",
        "seed = 10598\n",
        "backend = Aer.get_backend('statevector_simulator')\n",
        "quantum_instance = QuantumInstance(backend, seed_simulator=seed, seed_transpiler=seed)"
      ],
      "execution_count": 12,
      "outputs": [
        {
          "output_type": "stream",
          "text": [
            "/usr/local/lib/python3.7/dist-packages/qiskit/aqua/quantum_instance.py:137: DeprecationWarning: The class qiskit.aqua.QuantumInstance is deprecated. It was moved/refactored to qiskit.utils.QuantumInstance (pip install qiskit-terra). For more information see <https://github.com/Qiskit/qiskit-aqua/blob/master/README.md#migration-guide>\n",
            "  'qiskit-terra')\n"
          ],
          "name": "stderr"
        }
      ]
    },
    {
      "cell_type": "code",
      "metadata": {
        "colab": {
          "base_uri": "https://localhost:8080/",
          "height": 424
        },
        "id": "a5ZKkJ47liLV",
        "outputId": "4b018822-dfb3-45fd-97ba-3c032cf6ddb9"
      },
      "source": [
        "# construct VQE\n",
        "spsa = SPSA(maxiter=300)\n",
        "ry = TwoLocal(qubitOp.num_qubits, 'ry', 'cz', reps=5, entanglement='linear')\n",
        "vqe = VQE(qubitOp, ry, spsa, quantum_instance=quantum_instance)\n",
        "\n",
        "# run VQE\n",
        "result = vqe.run(quantum_instance)\n",
        "\n",
        "# print results\n",
        "x = sample_most_likely(result.eigenstate)\n",
        "print('energy:', result.eigenvalue.real)\n",
        "print('time:', result.optimizer_time)\n",
        "print('max-cut objective:', result.eigenvalue.real + offset)\n",
        "print('solution:', max_cut.get_graph_solution(x))\n",
        "print('solution objective:', max_cut.max_cut_value(x, w))\n",
        "\n",
        "# plot results\n",
        "colors = ['r' if max_cut.get_graph_solution(x)[i] == 0 else 'c' for i in range(n)]\n",
        "draw_graph(G, colors, pos)"
      ],
      "execution_count": 13,
      "outputs": [
        {
          "output_type": "stream",
          "text": [
            "/usr/local/lib/python3.7/dist-packages/qiskit/aqua/components/optimizers/optimizer.py:50: DeprecationWarning: The package qiskit.aqua.components.optimizers is deprecated. It was moved/refactored to qiskit.algorithms.optimizers (pip install qiskit-terra). For more information see <https://github.com/Qiskit/qiskit-aqua/blob/master/README.md#migration-guide>\n",
            "  'qiskit.algorithms.optimizers', 'qiskit-terra')\n",
            "/usr/local/lib/python3.7/dist-packages/qiskit/aqua/algorithms/vq_algorithm.py:72: DeprecationWarning: The class qiskit.aqua.algorithms.VQAlgorithm is deprecated. It was moved/refactored to qiskit.algorithms.VariationalAlgorithm (pip install qiskit-terra). For more information see <https://github.com/Qiskit/qiskit-aqua/blob/master/README.md#migration-guide>\n",
            "  'qiskit-terra')\n"
          ],
          "name": "stderr"
        },
        {
          "output_type": "stream",
          "text": [
            "energy: -1.4999796718931653\n",
            "time: 6.0673723220825195\n",
            "max-cut objective: -3.9999796718931653\n",
            "solution: [1. 0. 1. 0.]\n",
            "solution objective: 4.0\n"
          ],
          "name": "stdout"
        },
        {
          "output_type": "display_data",
          "data": {
            "image/png": "[encoded data removed]",
            "text/plain": [
              "<Figure size 432x288 with 1 Axes>"
            ]
          },
          "metadata": {
            "tags": []
          }
        }
      ]
    },
    {
      "cell_type": "code",
      "metadata": {
        "colab": {
          "base_uri": "https://localhost:8080/",
          "height": 300
        },
        "id": "Mi4bbzKAllWo",
        "outputId": "591709e3-d834-41b9-d058-261f2ad1e33f"
      },
      "source": [
        "# create minimum eigen optimizer based on VQE\n",
        "vqe_optimizer = MinimumEigenOptimizer(vqe)\n",
        "\n",
        "# solve quadratic program\n",
        "result = vqe_optimizer.solve(qp)\n",
        "print(result)\n",
        "\n",
        "colors = ['r' if result.x[i] == 0 else 'c' for i in range(n)]\n",
        "draw_graph(G, colors, pos)"
      ],
      "execution_count": 14,
      "outputs": [
        {
          "output_type": "stream",
          "text": [
            "optimal function value: -4.0\n",
            "optimal value: [1. 0. 1. 0.]\n",
            "status: SUCCESS\n"
          ],
          "name": "stdout"
        },
        {
          "output_type": "display_data",
          "data": {
            "image/png": "[encoded data removed]",
            "text/plain": [
              "<Figure size 432x288 with 1 Axes>"
            ]
          },
          "metadata": {
            "tags": []
          }
        }
      ]
    },
    {
      "cell_type": "code",
      "metadata": {
        "id": "1xCQw1TFloR_"
      },
      "source": [
        ""
      ],
      "execution_count": null,
      "outputs": []
    }
  ]
}